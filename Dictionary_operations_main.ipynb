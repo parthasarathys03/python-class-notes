{
  "cells": [
    {
      "cell_type": "markdown",
      "metadata": {
        "id": "view-in-github",
        "colab_type": "text"
      },
      "source": [
        "<a href=\"https://colab.research.google.com/github/parthasarathys03/python-class-notes/blob/main/Dictionary_operations_main.ipynb\" target=\"_parent\"><img src=\"https://colab.research.google.com/assets/colab-badge.svg\" alt=\"Open In Colab\"/></a>"
      ]
    },
    {
      "cell_type": "code",
      "execution_count": null,
      "id": "024f08f5-e1ab-40a5-9f85-50b801e8e7c9",
      "metadata": {
        "id": "024f08f5-e1ab-40a5-9f85-50b801e8e7c9",
        "outputId": "3262b6a4-604c-459e-c2e8-9dc2d764a79e"
      },
      "outputs": [
        {
          "name": "stdout",
          "output_type": "stream",
          "text": [
            "1️⃣ Old style using % operator\n",
            "Hello 7, your age is 21 and marks are 95.6\n",
            "\n",
            "\n",
            "2️⃣ Using str.format() method\n",
            "Hello 7, your age is 21 and marks are 95.56\n",
            "Using keywords: Hello 7, age 21, marks 95.56\n",
            "\n",
            "\n",
            "3️⃣ Using f-strings (Python 3.6+)\n",
            "Hello 7, your age is 21 and marks are 95.6\n",
            "\n",
            "\n"
          ]
        }
      ],
      "source": [
        "# =========================\n",
        "# Python String Formatting\n",
        "# =========================\n",
        "\n",
        "\n",
        "name = \"Partha\"\n",
        "name=7\n",
        "age = 21\n",
        "marks = 95.56\n",
        "\n",
        "print(\"1️⃣ Old style using % operator\")\n",
        "print(\"Hello %s, your age is %d and marks are %.1f\" % (name, age, marks))\n",
        "print(\"\\n\")\n",
        "\n",
        "print(\"2️⃣ Using str.format() method\")\n",
        "print(\"Hello {}, your age is {} and marks are {}\".format(name, age, marks))\n",
        "print(\"Using keywords: Hello {n}, age {a}, marks {m}\".format(n=name, a=age, m=marks))\n",
        "print(\"\\n\")\n",
        "\n",
        "print(\"3️⃣ Using f-strings (Python 3.6+)\")\n",
        "print(f\"Hello {name}, your age is {age} and marks are {marks:.1f}\")\n",
        "print(\"\\n\")"
      ]
    },
    {
      "cell_type": "code",
      "execution_count": null,
      "id": "14ec5c2d-37d4-47f1-bdc3-4ee2ecf145f3",
      "metadata": {
        "id": "14ec5c2d-37d4-47f1-bdc3-4ee2ecf145f3"
      },
      "outputs": [],
      "source": [
        "## 🔹 What is a Dictionary?\n",
        "\n",
        "* A **dictionary** in Python is a collection of **key–value pairs**.\n",
        "* Each **key** is unique, and it is used to access the **value**.\n",
        "* Written inside **curly braces `{ }`** with the format:\n"
      ]
    },
    {
      "cell_type": "code",
      "execution_count": null,
      "id": "98461740-bd54-4efe-b74c-dd8cb0b7a448",
      "metadata": {
        "id": "98461740-bd54-4efe-b74c-dd8cb0b7a448",
        "outputId": "8bc8368c-c78b-4817-b56a-81e42d428d78"
      },
      "outputs": [
        {
          "ename": "AttributeError",
          "evalue": "'dict' object has no attribute 'name1'",
          "output_type": "error",
          "traceback": [
            "\u001b[1;31m---------------------------------------------------------------------------\u001b[0m",
            "\u001b[1;31mAttributeError\u001b[0m                            Traceback (most recent call last)",
            "Cell \u001b[1;32mIn[66], line 5\u001b[0m\n\u001b[0;32m      1\u001b[0m my_dict \u001b[38;5;241m=\u001b[39m {\u001b[38;5;124m\"\u001b[39m\u001b[38;5;124mname\u001b[39m\u001b[38;5;124m\"\u001b[39m: \u001b[38;5;124m\"\u001b[39m\u001b[38;5;124mArun\u001b[39m\u001b[38;5;124m\"\u001b[39m, \u001b[38;5;124m\"\u001b[39m\u001b[38;5;124mage\u001b[39m\u001b[38;5;124m\"\u001b[39m: \u001b[38;5;241m20\u001b[39m, \u001b[38;5;124m\"\u001b[39m\u001b[38;5;124mcity\u001b[39m\u001b[38;5;124m\"\u001b[39m: \u001b[38;5;124m\"\u001b[39m\u001b[38;5;124mChennai\u001b[39m\u001b[38;5;124m\"\u001b[39m}\n\u001b[0;32m      4\u001b[0m name1\u001b[38;5;241m=\u001b[39m \u001b[38;5;124m\"\u001b[39m\u001b[38;5;124mname\u001b[39m\u001b[38;5;124m\"\u001b[39m\n\u001b[1;32m----> 5\u001b[0m \u001b[43mmy_dict\u001b[49m\u001b[38;5;241;43m.\u001b[39;49m\u001b[43mname1\u001b[49m\n",
            "\u001b[1;31mAttributeError\u001b[0m: 'dict' object has no attribute 'name1'"
          ]
        }
      ],
      "source": [
        "my_dict = {\"name\": \"Arun\", \"age\": 20, \"city\": \"Chennai\"}"
      ]
    },
    {
      "cell_type": "code",
      "execution_count": null,
      "id": "3d557cfa-79e2-4581-905f-71e1ae84d611",
      "metadata": {
        "id": "3d557cfa-79e2-4581-905f-71e1ae84d611",
        "outputId": "081f38e5-6a63-4ba5-bd57-a19357d1c45f"
      },
      "outputs": [
        {
          "name": "stdout",
          "output_type": "stream",
          "text": [
            "{'a': 1, 'b': 3, 'c': 4}\n",
            "{'a': 1, 'b': 3, 'c': 4}\n"
          ]
        }
      ],
      "source": [
        "d1 = {\"a\": 1, \"b\": 2}\n",
        "d2 = {\"b\": 3, \"c\": 4}\n",
        "\n",
        "d1.update(d2)   # {'a':1, 'b':3, 'c':4}\n",
        "print(d1)\n",
        "\n",
        "# Python 3.9+ alternative\n",
        "d3 = d1 | d2\n",
        "print(d3)\n"
      ]
    },
    {
      "cell_type": "code",
      "execution_count": null,
      "id": "abb9ce0a-b744-4406-ae1e-15b525692ce2",
      "metadata": {
        "id": "abb9ce0a-b744-4406-ae1e-15b525692ce2",
        "outputId": "b61c4744-a473-40d1-981c-33cc6f4c2afe"
      },
      "outputs": [
        {
          "name": "stdout",
          "output_type": "stream",
          "text": [
            "{'name': 'partha', 'Name': 5}\n"
          ]
        }
      ],
      "source": [
        "a={ \"name\": \"partha\", \"Name\": 5}\n",
        "print(a)\n",
        "\n"
      ]
    },
    {
      "cell_type": "code",
      "execution_count": null,
      "id": "7e250ca4-1562-4d92-bacb-cc5700333c6c",
      "metadata": {
        "id": "7e250ca4-1562-4d92-bacb-cc5700333c6c",
        "outputId": "fc0a34ae-24fa-443d-8658-242e0023ad1e"
      },
      "outputs": [
        {
          "name": "stdout",
          "output_type": "stream",
          "text": [
            "{'name': 'partha', 'age': 20}\n"
          ]
        }
      ],
      "source": [
        "a=dict( [(\"name\",\"partha\") , (\"age\",20)])\n",
        "print(a)\n",
        "\n"
      ]
    },
    {
      "cell_type": "code",
      "execution_count": null,
      "id": "fb8538d6-02bc-4185-a0b0-5c48e51cec5a",
      "metadata": {
        "id": "fb8538d6-02bc-4185-a0b0-5c48e51cec5a",
        "outputId": "abbbbe57-02ab-4521-c196-5645d4e3a418"
      },
      "outputs": [
        {
          "ename": "SyntaxError",
          "evalue": "cannot assign to literal here. Maybe you meant '==' instead of '='? (3460349081.py, line 1)",
          "output_type": "error",
          "traceback": [
            "\u001b[1;36m  Cell \u001b[1;32mIn[19], line 1\u001b[1;36m\u001b[0m\n\u001b[1;33m    \"name\"= \"partha\"\u001b[0m\n\u001b[1;37m    ^\u001b[0m\n\u001b[1;31mSyntaxError\u001b[0m\u001b[1;31m:\u001b[0m cannot assign to literal here. Maybe you meant '==' instead of '='?\n"
          ]
        }
      ],
      "source": [
        "\n"
      ]
    },
    {
      "cell_type": "code",
      "execution_count": null,
      "id": "7474a429-6eac-4a03-96af-31fd7351b717",
      "metadata": {
        "id": "7474a429-6eac-4a03-96af-31fd7351b717",
        "outputId": "6b541577-8fba-40d8-ac04-ef5a3df6dcbb"
      },
      "outputs": [
        {
          "name": "stdout",
          "output_type": "stream",
          "text": [
            "{'name': 'partha'}\n"
          ]
        }
      ],
      "source": [
        "c=dict(name= \"partha\")\n",
        "print(c)\n"
      ]
    },
    {
      "cell_type": "code",
      "execution_count": null,
      "id": "68b897a9-4aad-4ec8-b632-8e07fe3c3d9f",
      "metadata": {
        "id": "68b897a9-4aad-4ec8-b632-8e07fe3c3d9f",
        "outputId": "5ada9023-2fb3-4040-b889-fc9620492bc4"
      },
      "outputs": [
        {
          "name": "stdout",
          "output_type": "stream",
          "text": [
            "{'partha': 5}\n",
            "{'partha': 51}\n"
          ]
        }
      ],
      "source": [
        "a=dict( [(\"partha\" , 5)])\n",
        "#c=dict(partha=5 , 2=4)\n",
        "#print(c)\n",
        "b=dict([(\"partha\" , 5) ,(\"partha\" , 8),(\"partha\" , 51)])\n",
        "print(a)\n",
        "print(b)"
      ]
    },
    {
      "cell_type": "code",
      "execution_count": null,
      "id": "316bc3fb-c5cb-4e65-b4b9-34a0caf8a921",
      "metadata": {
        "id": "316bc3fb-c5cb-4e65-b4b9-34a0caf8a921"
      },
      "outputs": [],
      "source": [
        "Topic\tCorrect Way\tNotes\n",
        "Single key-value\tdict([(\"key\", value)])\tList containing tuple\n",
        "Multiple key-values\tdict([(\"k1\", v1), (\"k2\", v2)])\tEach tuple = one key-value\n",
        "Using keyword arguments\tdict(name=\"Partha\", age=5)\tAlternative, cleaner syntax"
      ]
    },
    {
      "cell_type": "code",
      "execution_count": null,
      "id": "67e1893c-df69-49eb-8103-45023bcf9a46",
      "metadata": {
        "id": "67e1893c-df69-49eb-8103-45023bcf9a46",
        "outputId": "67bb6bd9-900a-41c6-e63c-502e2934f99b"
      },
      "outputs": [
        {
          "name": "stdout",
          "output_type": "stream",
          "text": [
            "Arun\n",
            "20\n",
            "Not Found\n"
          ]
        }
      ],
      "source": [
        "## 🔹 Dictionary Operations\n",
        "\n",
        "### 1️⃣ Accessing Values\n",
        "\n",
        "student = {\"name\": \"Arun\", \"age\": 20, \"city\": \"Chennai\"}\n",
        "\n",
        "\n",
        "print(student[\"name\"]) # Arun\n",
        "\n",
        "#print(student[\"adress\"]) # error if not key available\n",
        "\n",
        "print(student.get(\"age\"))  # 20\n",
        "\n",
        "print(student.get(\"marks\", \"Not Found\"))  # Default value if key not present"
      ]
    },
    {
      "cell_type": "code",
      "execution_count": null,
      "id": "66b543db-2828-453f-ae36-b2d4aad24d8b",
      "metadata": {
        "id": "66b543db-2828-453f-ae36-b2d4aad24d8b",
        "outputId": "58e0ac86-1115-40ed-da1f-7b33a448aab9"
      },
      "outputs": [
        {
          "name": "stdout",
          "output_type": "stream",
          "text": [
            "{'name': 'Arun', 'age': 21, 'city': 'Chennai', 'college': 'ABC College'}\n"
          ]
        }
      ],
      "source": [
        "### 2️⃣ Adding / Updating Items\n",
        "\n",
        "\n",
        "\n",
        "student = {\"name\": \"Arun\", \"age\": 20, \"city\": \"Chennai\"}\n",
        "\n",
        "student[\"college\"] = \"ABC College\"   # Add new key–value\n",
        "student[\"age\"] = 21                  # Update existing value\n",
        "print(student)\n",
        "# {'name': 'Arun', 'age': 21, 'city': 'Chennai', 'college': 'ABC College'}\n"
      ]
    },
    {
      "cell_type": "code",
      "execution_count": null,
      "id": "78b85a72-28ab-4713-aaaf-f108001328b6",
      "metadata": {
        "id": "78b85a72-28ab-4713-aaaf-f108001328b6",
        "outputId": "a5af81c0-6a68-4b2f-fb92-581d6a8041f4"
      },
      "outputs": [
        {
          "ename": "TypeError",
          "evalue": "pop expected at least 1 argument, got 0",
          "output_type": "error",
          "traceback": [
            "\u001b[1;31m---------------------------------------------------------------------------\u001b[0m",
            "\u001b[1;31mTypeError\u001b[0m                                 Traceback (most recent call last)",
            "Cell \u001b[1;32mIn[41], line 4\u001b[0m\n\u001b[0;32m      1\u001b[0m \u001b[38;5;66;03m### 3️⃣ Removing Items\u001b[39;00m\n\u001b[0;32m      2\u001b[0m student \u001b[38;5;241m=\u001b[39m {\u001b[38;5;124m\"\u001b[39m\u001b[38;5;124mname\u001b[39m\u001b[38;5;124m\"\u001b[39m: \u001b[38;5;124m\"\u001b[39m\u001b[38;5;124mArun\u001b[39m\u001b[38;5;124m\"\u001b[39m, \u001b[38;5;124m\"\u001b[39m\u001b[38;5;124mage\u001b[39m\u001b[38;5;124m\"\u001b[39m: \u001b[38;5;241m20\u001b[39m, \u001b[38;5;124m\"\u001b[39m\u001b[38;5;124mcity\u001b[39m\u001b[38;5;124m\"\u001b[39m: \u001b[38;5;124m\"\u001b[39m\u001b[38;5;124mChennai\u001b[39m\u001b[38;5;124m\"\u001b[39m}\n\u001b[1;32m----> 4\u001b[0m \u001b[43mstudent\u001b[49m\u001b[38;5;241;43m.\u001b[39;49m\u001b[43mpop\u001b[49m\u001b[43m(\u001b[49m\u001b[43m)\u001b[49m  \u001b[38;5;66;03m# Removes 'city'\u001b[39;00m\n\u001b[0;32m      5\u001b[0m student\u001b[38;5;241m.\u001b[39mpopitem()       \u001b[38;5;66;03m# Removes last inserted item\u001b[39;00m\n\u001b[0;32m      6\u001b[0m \u001b[38;5;28;01mdel\u001b[39;00m student[\u001b[38;5;124m\"\u001b[39m\u001b[38;5;124mage\u001b[39m\u001b[38;5;124m\"\u001b[39m]      \u001b[38;5;66;03m# Deletes key 'age'\u001b[39;00m\n",
            "\u001b[1;31mTypeError\u001b[0m: pop expected at least 1 argument, got 0"
          ]
        }
      ],
      "source": [
        "### 3️⃣ Removing Items\n",
        "student = {\"name\": \"Arun\", \"age\": 20, \"city\": \"Chennai\"}\n",
        "\n",
        "student.pop(\"city\")  # Removes 'city'\n",
        "\n",
        "student.popitem() # Removes last inserted item\n",
        "\n",
        "del student[\"age\"]      # Deletes key 'age'\n",
        "\n",
        "student.clear()         # Removes all items\n",
        "\n"
      ]
    },
    {
      "cell_type": "code",
      "execution_count": null,
      "id": "008448f6-deb2-4766-a522-171121051887",
      "metadata": {
        "id": "008448f6-deb2-4766-a522-171121051887",
        "outputId": "c5049687-1a46-4fe2-df3c-4edb7ef458fb"
      },
      "outputs": [
        {
          "name": "stdout",
          "output_type": "stream",
          "text": [
            "{'name', 'age', 'city'}\n"
          ]
        }
      ],
      "source": [
        "### 4️⃣ Dictionary Methods\n",
        "\n",
        "\n",
        "student = {\"name\": \"name\", \"age\": 20, \"city\": \"Chennai\"}\n",
        "\n",
        "print( (student.keys()))  # dict_keys(['name', 'age', 'city'])\n",
        "\n",
        "\n",
        "#student[\"it\"]=\"xyz company\"\n",
        "#print(student.values())   # dict_values(['Arun', 20, 'Chennai'])\n",
        "#print(student.items())    # dict_items([('name','Arun'), ('age',20), ('city','Chennai')])\n",
        "\n"
      ]
    },
    {
      "cell_type": "code",
      "execution_count": null,
      "id": "f8795028-e2f6-4a63-9f65-446af827c9c1",
      "metadata": {
        "id": "f8795028-e2f6-4a63-9f65-446af827c9c1",
        "outputId": "25c2d054-59b7-4099-b33e-5433f790a558"
      },
      "outputs": [
        {
          "name": "stdout",
          "output_type": "stream",
          "text": [
            "name : Arun\n",
            "age : 20\n",
            "city : Chennai\n",
            "Arun\n",
            "20\n",
            "Chennai\n",
            "name = Arun\n",
            "age = 20\n",
            "city = Chennai\n"
          ]
        }
      ],
      "source": [
        "### 5️⃣ Looping through Dictionary\n",
        "\n",
        "student = {\"name\": \"Arun\", \"age\": 20, \"city\": \"Chennai\"}\n",
        "\n",
        "for key in student:\n",
        "    print(key, \":\", student[key])"
      ]
    },
    {
      "cell_type": "code",
      "execution_count": null,
      "id": "ae6c8c9c-9a4a-438b-aff1-d7d9a86564ac",
      "metadata": {
        "id": "ae6c8c9c-9a4a-438b-aff1-d7d9a86564ac",
        "outputId": "fe6be3a9-3ae5-4f79-c4c2-396c213021bb"
      },
      "outputs": [
        {
          "name": "stdout",
          "output_type": "stream",
          "text": [
            "Arun\n",
            "20\n",
            "Chennai\n"
          ]
        }
      ],
      "source": [
        "### Value\n",
        "for value in student.values():\n",
        "    print(value)"
      ]
    },
    {
      "cell_type": "code",
      "execution_count": null,
      "id": "9155b000-76f7-46e4-9e98-c082c7c27342",
      "metadata": {
        "id": "9155b000-76f7-46e4-9e98-c082c7c27342",
        "outputId": "d1a66458-e4ca-42a9-a500-49286567821a"
      },
      "outputs": [
        {
          "name": "stdout",
          "output_type": "stream",
          "text": [
            "name = Arun\n",
            "age = 20\n",
            "city = Chennai\n"
          ]
        }
      ],
      "source": [
        "### Items\n",
        "for k, v in student.items():\n",
        "    print(k, \"=\", v)\n"
      ]
    },
    {
      "cell_type": "code",
      "execution_count": null,
      "id": "b16192b8-dfa3-4873-b02b-1a111ceea230",
      "metadata": {
        "id": "b16192b8-dfa3-4873-b02b-1a111ceea230"
      },
      "outputs": [],
      "source": [
        "### 6️⃣ Copying Dictionary\n",
        "\n",
        "\n",
        "new_student = student.copy()\n"
      ]
    },
    {
      "cell_type": "code",
      "execution_count": null,
      "id": "8b106d4e-a293-4656-a5a1-8ac543bf1d3a",
      "metadata": {
        "id": "8b106d4e-a293-4656-a5a1-8ac543bf1d3a",
        "outputId": "2aa576ae-0eff-4a43-f189-530eb18448ba"
      },
      "outputs": [
        {
          "name": "stdout",
          "output_type": "stream",
          "text": [
            "Arun\n"
          ]
        }
      ],
      "source": [
        "### 7️⃣ Nested Dictionary (Dictionary inside Dictionary)\n",
        "\n",
        "\n",
        "students = {\n",
        "    \"student1\": {\"name\": \"Arun\", \"age\": 20},\n",
        "    \"student2\": {\"name\": \"Bala\", \"age\": 21}\n",
        "}\n",
        "print(students[\"student1\"][\"name\"])   # Arun\n",
        "\n"
      ]
    },
    {
      "cell_type": "code",
      "execution_count": null,
      "id": "7445f13b-c0e8-4ec7-acda-5df3ce4fd903",
      "metadata": {
        "id": "7445f13b-c0e8-4ec7-acda-5df3ce4fd903",
        "outputId": "12421e8d-3298-4913-dd14-17eb071c91df"
      },
      "outputs": [
        {
          "name": "stdout",
          "output_type": "stream",
          "text": [
            "Removed: 20\n",
            "{'name': 'Arun', 'city': 'Chennai'}\n",
            "Removed: 0\n",
            "{'name': 'Arun', 'city': 'Chennai'}\n"
          ]
        }
      ],
      "source": [
        "#1️⃣ Remove specific key – pop(key)\n",
        "# Example 1\n",
        "student = {\"name\": \"Arun\", \"age\": 20, \"city\": \"Chennai\"}\n",
        "removed_value = student.pop(\"age\")   # Remove 'age'\n",
        "print(\"Removed:\", removed_value)     # 20\n",
        "print(student)                       # {'name': 'Arun', 'city': 'Chennai'}\n",
        "\n",
        "# Example 2 – Using default to avoid KeyError\n",
        "removed_value = student.pop(\"marks\", 0)   # 'marks' key not present\n",
        "print(\"Removed:\", removed_value)          # 0\n",
        "print(student)                            # {'name': 'Arun', 'city': 'Chennai'}\n"
      ]
    },
    {
      "cell_type": "code",
      "execution_count": null,
      "id": "d762f71d-bbd4-4ef9-bb39-1141dba8d3ce",
      "metadata": {
        "id": "d762f71d-bbd4-4ef9-bb39-1141dba8d3ce",
        "outputId": "91f73efc-799f-4ccf-fea1-9f91b8f57870"
      },
      "outputs": [
        {
          "name": "stdout",
          "output_type": "stream",
          "text": [
            "city Chennai\n",
            "{'name': 'Arun', 'age': 20}\n",
            "Removed: c 3\n",
            "Removed: b 2\n",
            "Removed: a 1\n"
          ]
        }
      ],
      "source": [
        "#2️⃣ Remove last inserted item – popitem()\n",
        "# Example 1\n",
        "student = {\"name\": \"Arun\", \"age\": 20, \"city\": \"Chennai\"}\n",
        "key, value = student.popitem()   # Removes last inserted key-value\n",
        "print(key, value)                # city Chennai\n",
        "print(student)                   # {'name': 'Arun', 'age': 20}\n",
        "\n",
        "# Example 2 – Pop repeatedly\n",
        "student = {\"a\": 1, \"b\": 2, \"c\": 3}\n",
        "while student:\n",
        "    key, value = student.popitem()\n",
        "    print(\"Removed:\", key, value)\n",
        "# Removed: c 3\n",
        "# Removed: b 2\n",
        "# Removed: a 1\n"
      ]
    },
    {
      "cell_type": "code",
      "execution_count": null,
      "id": "49cffd40-4234-404f-b00f-1b69210e58ba",
      "metadata": {
        "id": "49cffd40-4234-404f-b00f-1b69210e58ba",
        "outputId": "26292ce7-f768-4056-e72f-2da74f40ee84"
      },
      "outputs": [
        {
          "name": "stdout",
          "output_type": "stream",
          "text": [
            "{'age': 20, 'city': 'Chennai'}\n",
            "{'name': 'Arun', 'city': 'Chennai'}\n"
          ]
        }
      ],
      "source": [
        "#3️⃣ Delete a key – del dict[key]\n",
        "# Example 1\n",
        "student = {\"name\": \"Arun\", \"age\": 20, \"city\": \"Chennai\"}\n",
        "del student[\"name\"]\n",
        "print(student)   # {'age': 20, 'city': 'Chennai'}\n",
        "\n",
        "# Example 2 – Delete multiple keys\n",
        "student = {\"name\": \"Arun\", \"age\": 20, \"city\": \"Chennai\", \"college\": \"ABC\"}\n",
        "del student[\"age\"]\n",
        "del student[\"college\"]\n",
        "print(student)   # {'name': 'Arun', 'city': 'Chennai'}\n",
        "\n"
      ]
    },
    {
      "cell_type": "code",
      "execution_count": null,
      "id": "78912b44-81cb-451b-aa9f-6695715d8811",
      "metadata": {
        "id": "78912b44-81cb-451b-aa9f-6695715d8811",
        "outputId": "589d3f88-f77b-42c0-e26b-59d6681792c2"
      },
      "outputs": [
        {
          "ename": "SyntaxError",
          "evalue": "invalid character '→' (U+2192) (2424545448.py, line 3)",
          "output_type": "error",
          "traceback": [
            "\u001b[1;36m  Cell \u001b[1;32mIn[22], line 3\u001b[1;36m\u001b[0m\n\u001b[1;33m    pop(key) → You know the key and may want its value.\u001b[0m\n\u001b[1;37m             ^\u001b[0m\n\u001b[1;31mSyntaxError\u001b[0m\u001b[1;31m:\u001b[0m invalid character '→' (U+2192)\n"
          ]
        }
      ],
      "source": [
        "#🔹 Key Notes:\n",
        "\n",
        "pop(key) → You know the key and may want its value.\n",
        "\n",
        "popitem() → Removes the last inserted item, useful in LIFO-like operations.\n",
        "\n",
        "del → Simple deletion by key only, doesn’t return value."
      ]
    },
    {
      "cell_type": "code",
      "execution_count": null,
      "id": "5df06981-f2e1-46f1-bb46-2ff275530199",
      "metadata": {
        "id": "5df06981-f2e1-46f1-bb46-2ff275530199",
        "outputId": "8c4a9f88-668d-461b-88e9-f6d9032fd5b9"
      },
      "outputs": [
        {
          "name": "stdout",
          "output_type": "stream",
          "text": [
            "{'name': ['parth', 'madhu', 'abi'], 'age': [20, 45, 20]}\n",
            "{'name': ['parth', 'madhu', 'abi'], 'age': [20, 18, 20]}\n"
          ]
        }
      ],
      "source": [
        "\"\"\"\n",
        "students\n",
        "\n",
        "\n",
        "name   age  phone  address\n",
        "partha  20   9999   cuddalore\n",
        "madhu  45    789     chennai\n",
        "abi     20   789     america\n",
        "\n",
        "\"\"\"\n",
        "\n",
        "\n",
        "students = { \"name\": [ \"parth\" , \"madhu\" , \"abi\"] ,\"age\" : [20 , 45 , 20]    }\n",
        "print(students)\n"
      ]
    },
    {
      "cell_type": "code",
      "execution_count": null,
      "id": "145fe4fa-8b28-4915-aca1-e829541f116d",
      "metadata": {
        "id": "145fe4fa-8b28-4915-aca1-e829541f116d"
      },
      "outputs": [],
      "source": []
    },
    {
      "cell_type": "code",
      "execution_count": null,
      "id": "99a1a678-a5bf-4ddc-aaae-910fbebe9c10",
      "metadata": {
        "id": "99a1a678-a5bf-4ddc-aaae-910fbebe9c10"
      },
      "outputs": [],
      "source": []
    }
  ],
  "metadata": {
    "kernelspec": {
      "display_name": "Python 3 (ipykernel)",
      "language": "python",
      "name": "python3"
    },
    "language_info": {
      "codemirror_mode": {
        "name": "ipython",
        "version": 3
      },
      "file_extension": ".py",
      "mimetype": "text/x-python",
      "name": "python",
      "nbconvert_exporter": "python",
      "pygments_lexer": "ipython3",
      "version": "3.10.13"
    },
    "colab": {
      "provenance": [],
      "include_colab_link": true
    }
  },
  "nbformat": 4,
  "nbformat_minor": 5
}