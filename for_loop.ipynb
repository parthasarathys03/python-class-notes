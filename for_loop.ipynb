{
 "cells": [
  {
   "cell_type": "code",
   "execution_count": 37,
   "id": "e7d9b900-fb7f-473f-90bf-7b7c0ba205b2",
   "metadata": {},
   "outputs": [],
   "source": [
    "#Syntax:\n",
    "\n",
    "#for variable in sequence:\n",
    "    # repeat block\n"
   ]
  },
  {
   "cell_type": "code",
   "execution_count": 73,
   "id": "b0984712-47fd-4da3-b97c-f957b2a21b20",
   "metadata": {},
   "outputs": [
    {
     "name": "stdout",
     "output_type": "stream",
     "text": [
      "0\n",
      "1\n",
      "2\n",
      "3\n",
      "4\n"
     ]
    }
   ],
   "source": [
    "for i in range(5):\n",
    "    print(i)\n"
   ]
  },
  {
   "cell_type": "code",
   "execution_count": 70,
   "id": "6c019b0f-90a4-4876-ab80-29c6a11ab695",
   "metadata": {},
   "outputs": [
    {
     "name": "stdout",
     "output_type": "stream",
     "text": [
      "Hi\n",
      "Hi\n",
      "Hi\n",
      "Hi\n",
      "Hi\n"
     ]
    }
   ],
   "source": [
    "for i in range(5):\n",
    "    print(\"Hi\")"
   ]
  },
  {
   "cell_type": "code",
   "execution_count": 69,
   "id": "84544ee4-dd98-41f0-995e-899c984fd662",
   "metadata": {},
   "outputs": [
    {
     "name": "stdout",
     "output_type": "stream",
     "text": [
      "Discount applied for Customer: 1 is 15%\n",
      "Discount applied for Customer: 2 is 15%\n",
      "Discount applied for Customer: 3 is 15%\n",
      "Discount applied for Customer: 4 is 15%\n",
      "Discount applied for Customer: 5 is 15%\n"
     ]
    }
   ],
   "source": [
    "#🔹 A. Supermarket gives 15% discount for the first 5 customers.\n",
    "for customer in range(1, 6):\n",
    "    print(\"Discount applied for Customer:\", customer,\"is 15%\")\n",
    "    #print(f\"Discount applied for Customer: {customer} is 15%\")\n"
   ]
  },
  {
   "cell_type": "code",
   "execution_count": 46,
   "id": "e69c897b-6f9e-41f8-8e60-bc4ac8881bf7",
   "metadata": {},
   "outputs": [
    {
     "name": "stdout",
     "output_type": "stream",
     "text": [
      "2\n",
      "4\n",
      "6\n",
      "8\n",
      "10\n",
      "12\n",
      "14\n",
      "16\n",
      "18\n",
      "20\n"
     ]
    }
   ],
   "source": [
    "#🔹 B. For with range(start, stop, step)\n",
    "for i in range(2, 21, 2):\n",
    "    print(i)"
   ]
  },
  {
   "cell_type": "code",
   "execution_count": 71,
   "id": "4c4ad489-ffb1-470a-b4da-7f9830ecb690",
   "metadata": {},
   "outputs": [
    {
     "name": "stdout",
     "output_type": "stream",
     "text": [
      "10\n",
      "9\n",
      "8\n",
      "7\n",
      "6\n",
      "5\n",
      "4\n",
      "3\n",
      "2\n",
      "1\n",
      "Exam starts in 10 seconds\n",
      "Exam starts in 9 seconds\n",
      "Exam starts in 8 seconds\n",
      "Exam starts in 7 seconds\n",
      "Exam starts in 6 seconds\n",
      "Exam starts in 5 seconds\n",
      "Exam starts in 4 seconds\n",
      "Exam starts in 3 seconds\n",
      "Exam starts in 2 seconds\n",
      "Exam starts in 1 seconds\n"
     ]
    }
   ],
   "source": [
    "#C. Reverse Loop\n",
    "#E-commerce app loads every 2nd product for flash sale.\n",
    "\n",
    "# test mode count down\n",
    "\n",
    "# 4️⃣ Countdown Timer (Exam App)\n",
    "\n",
    "for sec in range(10, 0, -1):\n",
    "    print(\"Exam starts in\", sec, \"seconds\")\n"
   ]
  },
  {
   "cell_type": "code",
   "execution_count": 41,
   "id": "5dd09bfe-421a-4c99-92a0-525886e7caa6",
   "metadata": {},
   "outputs": [
    {
     "name": "stdout",
     "output_type": "stream",
     "text": [
      "Billing: Milk\n",
      "Billing: Rice\n",
      "Billing: Oil\n",
      "----------------\n",
      "Now Playing: Song1\n",
      "Now Playing: Song2\n",
      "Now Playing: Song3\n"
     ]
    }
   ],
   "source": [
    "#D. Looping Through a List\n",
    "\n",
    "cart = [\"Milk\", \"Rice\", \"Oil\"]\n",
    "for item in cart:\n",
    "    print(\"Billing:\", item)\n",
    "\n",
    "print(\"----------------\")\n",
    "\n",
    "playlist = [\"Song1\", \"Song2\", \"Song3\"]\n",
    "for video in playlist:\n",
    "    print(\"Now Playing:\", video)\n"
   ]
  },
  {
   "cell_type": "code",
   "execution_count": 8,
   "id": "4cff516b-92b0-48af-a774-55a2af3f94a3",
   "metadata": {},
   "outputs": [
    {
     "name": "stdout",
     "output_type": "stream",
     "text": [
      "H\n",
      "E\n",
      "L\n",
      "L\n",
      "O\n"
     ]
    }
   ],
   "source": [
    "#🔹 E. Looping Through a String\n",
    "word = \"HELLO\"\n",
    "for ch in word:\n",
    "    print(ch)"
   ]
  },
  {
   "cell_type": "code",
   "execution_count": 68,
   "id": "1845a4de-e723-4328-a408-90ba1b752053",
   "metadata": {},
   "outputs": [
    {
     "name": "stdout",
     "output_type": "stream",
     "text": [
      "-----------------------\n",
      "dict_items([('Milk', 40), ('Rice', 60), ('Oil', 100)])\n",
      "[('Milk', 40), ('Rice', 60), ('Oil', 100)]\n",
      "-----------------------\n",
      "1 2\n",
      "1 2\n",
      "1 2\n",
      "-----------------------\n",
      "Milk : 40\n",
      "Rice : 60\n",
      "Oil : 100\n",
      "----------------------\n",
      "Milk\n",
      "Rice\n",
      "Oil\n",
      "----------------------\n",
      "40\n",
      "60\n",
      "100\n"
     ]
    }
   ],
   "source": [
    "#🔹 F. Looping Through a Dictionary\n",
    "prices = {\"Milk\": 40, \"Rice\": 60, \"Oil\": 100}\n",
    "\n",
    "print(\"-----------------------\")\n",
    "\n",
    "print( prices.items() )\n",
    "print(list(prices.items()))\n",
    "\n",
    "print(\"-----------------------\")\n",
    "\n",
    "a,b= [1,2]\n",
    "print(a,b)\n",
    "\n",
    "a,b= (1,2 )\n",
    "print(a,b)\n",
    "\n",
    "a, b=  1,2\n",
    "print(a,b)\n",
    "\n",
    "print(\"-----------------------\")\n",
    "\n",
    "\n",
    "for product, price in prices.items():\n",
    "    print(product, \":\", price)\n",
    "\n",
    "\n",
    "\n",
    "print(\"----------------------\")\n",
    "### Keys\n",
    "for keys in prices.keys():\n",
    "    #print(\"product :\" , keys )\n",
    "    print(keys)\n",
    "    \n",
    "print(\"----------------------\")\n",
    "### Value \n",
    "\n",
    "\n",
    "for value in prices.values():\n",
    "    #print(\"prices :\" , value )\n",
    "    print(value )"
   ]
  },
  {
   "cell_type": "code",
   "execution_count": 10,
   "id": "f94516a2-f363-4d8b-b5d9-ffb095a53e0c",
   "metadata": {},
   "outputs": [
    {
     "name": "stdout",
     "output_type": "stream",
     "text": [
      "0\n",
      "1\n",
      "2\n",
      "Loop finished\n"
     ]
    }
   ],
   "source": [
    "#🔹 G. For with else\n",
    "for i in range(3):\n",
    "    print(i)\n",
    "else:\n",
    "    print(\"Loop finished\")"
   ]
  },
  {
   "cell_type": "code",
   "execution_count": 17,
   "id": "6219372b-a63c-488d-8077-2b92c501a2f2",
   "metadata": {},
   "outputs": [
    {
     "name": "stdout",
     "output_type": "stream",
     "text": [
      "Even: 2\n",
      "Even: 4\n",
      "Even: 6\n",
      "Even: 8\n",
      "Even: 10\n",
      "Even: 2\n",
      "Even: 4\n",
      "Even: 6\n",
      "Even: 8\n",
      "Even: 10\n"
     ]
    }
   ],
   "source": [
    "#🔹 H. For with Condition Inside\n",
    "for i in range(1, 11):\n",
    "    if i % 2 == 0:\n",
    "        print(\"Even:\", i)\n",
    "#else:\n",
    "    #print( \"completed\")\n",
    "\n",
    "# alternative\n",
    "for i in range(2, 11 ,2):\n",
    "    print(\"Even:\",i)"
   ]
  },
  {
   "cell_type": "code",
   "execution_count": 20,
   "id": "80ffe87a-56fb-41de-8127-15cfad91dda0",
   "metadata": {},
   "outputs": [
    {
     "name": "stdout",
     "output_type": "stream",
     "text": [
      "1 Apple\n",
      "2 Banana\n",
      "3 Mango\n"
     ]
    }
   ],
   "source": [
    "#🔹 J. For with enumerate()\n",
    "fruits = [\"Apple\", \"Banana\", \"Mango\"]\n",
    "for index, fruit in enumerate(fruits, start=1):\n",
    "    print(index, fruit)\n",
    "    \n",
    "#📌 Real App Example:\n",
    "#YouTube playlist → shows serial number + video name.\n",
    "\n",
    "#alternative\n",
    "\n",
    "for i , j in  range(\n"
   ]
  },
  {
   "cell_type": "code",
   "execution_count": 21,
   "id": "4bdca3a2-49bc-45e6-8956-92e430273a71",
   "metadata": {},
   "outputs": [
    {
     "name": "stdout",
     "output_type": "stream",
     "text": [
      "Arun scored 85\n",
      "Priya scored 90\n",
      "Karthik scored 78\n"
     ]
    }
   ],
   "source": [
    "#🔹 K. For with zip() (Parallel Looping)\n",
    "names = [\"Arun\", \"Priya\", \"Karthik\"]\n",
    "marks = [85, 90, 78]\n",
    "\n",
    "for n, m in zip(names, marks):\n",
    "    print(n, \"scored\", m)"
   ]
  },
  {
   "cell_type": "code",
   "execution_count": 22,
   "id": "f2fa0d1b-88a4-412b-96c8-829d28bc9e9f",
   "metadata": {},
   "outputs": [
    {
     "name": "stdout",
     "output_type": "stream",
     "text": [
      "Billing: Milk\n",
      "Billing: Bread\n",
      "Billing: Oil\n",
      "Billing: Rice\n"
     ]
    }
   ],
   "source": [
    "#🔹 L. For with Nested Data (Complex Lists)\n",
    "orders = [[\"Milk\", \"Bread\"], [\"Oil\", \"Rice\"]]\n",
    "for order in orders:\n",
    "    for item in order:\n",
    "        print(\"Billing:\", item)"
   ]
  },
  {
   "cell_type": "markdown",
   "id": "bf764e6b-f294-4602-b93b-85728118bc37",
   "metadata": {},
   "source": [
    "# 10 Real-Time Examples Students Understand 🚀  \n",
    "\n",
    "1️⃣ **YouTube Playlist** → Loop through videos  \n",
    "2️⃣ **Supermarket Billing** → Loop through cart items  \n",
    "3️⃣ **Dress Sizes in Shopping App** → Show all sizes available  \n",
    "4️⃣ **Exam App** → Show 1000 questions one by one  \n",
    "5️⃣ **Attendance App** → Mark present/absent for all roll numbers  \n",
    "6️⃣ **WhatsApp Group Message** → Send to all members  \n",
    "7️⃣ **Uber/Ola Rides** → Loop through available cabs nearby  \n",
    "8️⃣ **Flipkart Cart System** → Loop through items + prices  \n",
    "9️⃣ **Bank ATM** → Loop through denominations (2000, 500, 100)  \n",
    "🔟 **Netflix** → Loop through recommended movies  \n",
    "\n"
   ]
  },
  {
   "cell_type": "code",
   "execution_count": 72,
   "id": "660ccfb4-ae07-47b7-a902-7b821a19140e",
   "metadata": {},
   "outputs": [
    {
     "name": "stdout",
     "output_type": "stream",
     "text": [
      "1 * 1 = 1\n",
      "1 * 2 = 2\n",
      "1 * 3 = 3\n",
      "\n",
      "2 * 1 = 2\n",
      "2 * 2 = 4\n",
      "2 * 3 = 6\n",
      "\n",
      "3 * 1 = 3\n",
      "3 * 2 = 6\n",
      "3 * 3 = 9\n",
      "\n"
     ]
    }
   ],
   "source": [
    "#🔹 H. Nested For Loop (only if later needed, but optional here)\n",
    "\n",
    "#Example: Printing multiplication table.\n",
    "\n",
    "for i in range(1, 4):\n",
    "    for j in range(1, 4):\n",
    "        print(i, \"*\", j, \"=\", i*j)\n",
    "    print( )"
   ]
  },
  {
   "cell_type": "code",
   "execution_count": null,
   "id": "80c90f12-b7b6-47b8-8516-beda21776b2a",
   "metadata": {},
   "outputs": [],
   "source": []
  },
  {
   "cell_type": "code",
   "execution_count": null,
   "id": "03cd475a-db6d-4c09-a0dd-3fe4f2b2060a",
   "metadata": {},
   "outputs": [],
   "source": []
  }
 ],
 "metadata": {
  "kernelspec": {
   "display_name": "Python 3 (ipykernel)",
   "language": "python",
   "name": "python3"
  },
  "language_info": {
   "codemirror_mode": {
    "name": "ipython",
    "version": 3
   },
   "file_extension": ".py",
   "mimetype": "text/x-python",
   "name": "python",
   "nbconvert_exporter": "python",
   "pygments_lexer": "ipython3",
   "version": "3.10.13"
  }
 },
 "nbformat": 4,
 "nbformat_minor": 5
}
